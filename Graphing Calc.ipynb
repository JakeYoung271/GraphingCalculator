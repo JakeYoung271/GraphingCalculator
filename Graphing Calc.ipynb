{
 "cells": [
  {
   "cell_type": "markdown",
   "metadata": {},
   "source": [
    "# Importing packages"
   ]
  },
  {
   "cell_type": "code",
   "execution_count": 89,
   "metadata": {},
   "outputs": [],
   "source": [
    "import numpy as np #importing dependencies\n",
    "import matplotlib.pyplot as plt\n",
    "import math\n",
    "\n",
    "def imshow(img): # this makes it so that the \"tick\" marks go away around the image in the imshow function\n",
    "    plt.imshow(img, interpolation='bicubic')\n",
    "    plt.xticks([]), plt.yticks([]) \n",
    "    plt.show()"
   ]
  },
  {
   "cell_type": "markdown",
   "metadata": {},
   "source": [
    "# Choosing dimensions of image"
   ]
  },
  {
   "cell_type": "code",
   "execution_count": 91,
   "metadata": {},
   "outputs": [
    {
     "name": "stdout",
     "output_type": "stream",
     "text": [
      "What is the image quality (pixel dimensions)252\n"
     ]
    }
   ],
   "source": [
    "dimensions = int(input(r\"What is the image quality (pixel dimensions)\")) #this chooses the number of pixels (definition of image)\n",
    "#the higher the pixels, the thinner the graph line will be. I like to set it to 252"
   ]
  },
  {
   "cell_type": "markdown",
   "metadata": {},
   "source": [
    "# Choosing bounds of Graph"
   ]
  },
  {
   "cell_type": "code",
   "execution_count": 148,
   "metadata": {},
   "outputs": [
    {
     "name": "stdout",
     "output_type": "stream",
     "text": [
      "What is the right bound of the graph 50\n",
      "What is the left bound of the graph -50\n",
      "What is the upper bound of the graph 50\n",
      "What is the lower bound of the graph -50\n"
     ]
    }
   ],
   "source": [
    "r_bound=int(input(\"What is the right bound of the graph \")) # this is the right bound, self explanatory by input text\n",
    "l_bound=int(input(\"What is the left bound of the graph \"))\n",
    "u_bound=int(input(\"What is the upper bound of the graph \"))\n",
    "d_bound=int(input(\"What is the lower bound of the graph \"))\n",
    "x_dim=r_bound-l_bound #total domain\n",
    "y_dim=u_bound-d_bound #total range"
   ]
  },
  {
   "cell_type": "markdown",
   "metadata": {},
   "source": [
    "# Making blank image and axis"
   ]
  },
  {
   "cell_type": "code",
   "execution_count": 158,
   "metadata": {},
   "outputs": [],
   "source": [
    "graph= np.full((dimensions, dimensions, 3),255)  # Creates a numpy array full of value 255 (white in rgb) with dimensions chosen above\n",
    "#imshow(graph)\n",
    "x_axis = -1*d_bound/y_dim #this finds percentage of area below axis\n",
    "y_axis = -1*l_bound/x_dim\n",
    "x_axis*=dimensions #this multiplies that by total size to find the height that it should be\n",
    "y_axis*=dimensions\n",
    "x_axis=dimensions-x_axis #imshow starts from the top, so this inverts it\n",
    "#imshow goes left to right, so no need to flip y_axis like in x axis\n",
    "y_axis,x_axis = round(y_axis),round(x_axis)  #this makes it a whole number so it can choose a pixel\n",
    "for i in range (0,dimensions):  # this iterates through every pixel in line\n",
    "        if u_bound>0 and d_bound<0: # this figures if the axis will be in the domain/range\n",
    "            graph[x_axis,i]=[0,0,0] # and this changes the color [0,0,0] = black in rgb\n",
    "        if r_bound>0 and l_bound<0:  # this figures if the axis will be in the domain/range\n",
    "            graph[i,y_axis]=[0,0,0]\n",
    "#imshow(graph) - # un comment if you want to see the axis pre-graph"
   ]
  },
  {
   "cell_type": "markdown",
   "metadata": {},
   "source": [
    "# Choosing function"
   ]
  },
  {
   "cell_type": "code",
   "execution_count": 150,
   "metadata": {
    "scrolled": true
   },
   "outputs": [
    {
     "name": "stdout",
     "output_type": "stream",
     "text": [
      "For polynomial and exponential functions, type function normally, for example:\n",
      " y=(x+3)**2-4\n",
      "Use double star for exponents\n",
      "For non-polynomial functions (like sinh or log) type \"math.\" plus the function\n",
      "For example: y=math.sin(2*x)+5    Remember to put an asterisk between coefs and variables\n",
      "Never be shy with parentheses\n",
      "Type your equation\n",
      " y=x**3\n"
     ]
    }
   ],
   "source": [
    "print(\"For polynomial and exponential functions, type function normally, for example:\\n y=(x+3)**2-4\") #gives instructions\n",
    "print(\"Use double star for exponents\")\n",
    "print(\"For non-polynomial functions (like sinh or log) type \\\"math.\\\" plus the function\")\n",
    "print(\"For example: y=math.sin(2*x)+5    Remember to put an asterisk between coefs and variables\")\n",
    "print(\"Never be shy with parentheses\")\n",
    "equation = input(\"Type your equation\\n y=\") #gets equation"
   ]
  },
  {
   "cell_type": "markdown",
   "metadata": {},
   "source": [
    "# Making the Graph"
   ]
  },
  {
   "cell_type": "code",
   "execution_count": 159,
   "metadata": {},
   "outputs": [
    {
     "data": {
      "image/png": "[encoded data removed]",
      "text/plain": [
       "<Figure size 432x288 with 1 Axes>"
      ]
     },
     "metadata": {},
     "output_type": "display_data"
    }
   ],
   "source": [
    "x,y_val,height=0,0,0 #initializing variables\n",
    "total_info =[] #initializing list\n",
    "pixels=[]\n",
    "delta = 0\n",
    "scalar = 15\n",
    "for i in range (0,dimensions): #iterates through every pixel\n",
    "    x = (i*x_dim/dimensions)+l_bound #finds the x value for the function which isn't the same as pixel #\n",
    "    y_val=eval(equation) #finds value of function\n",
    "    height=u_bound-y_val #essentially is finding area above point in mathematical scale\n",
    "    height/=y_dim #Scales it to pixel value\n",
    "    height*=dimensions #scales it to pixel value p.2\n",
    "    height=round(height) # rounds it because pixels and indices can't be decimals\n",
    "    pixels.append(height) # adds it to list of all y values\n",
    "    if i != 0:\n",
    "        delta = int(round((height-pixels[i-1])*scalar)) # this finds the difference in height between the pixel and the next : You can scale deriv with scalar multiplier for increased thicccness\n",
    "    info=[height,delta,i] # this makes it a list, a nice lil' package of info with pixel value (height), slope, and horizantal coordinate - the delta which is like slope will be negative what it looks like on graph\n",
    "    total_info.append(info) # adds to master list\n",
    "#print(total_info) - if you care to see the info\n",
    "#print(total_info[1]) - calls a specific list\n",
    "for i in range (0,dimensions): #goes through every column of pixels\n",
    "    if 0<pixels[i]<dimensions: #checks to see if index will correspond to a pixel before continuing\n",
    "        graph[(pixels[i]),round(i),1]=0 #changes rgb value of pixel to different\n",
    "# filling in line if there are spaces\n",
    "for i in range (0,dimensions): #iterates through every pixel\n",
    "    if 0<total_info[i][0]+total_info[i][1]/scalar<dimensions or 0<total_info[i][0]<dimensions:#makes sure either pixel is in y range or pixel+deriv are in y range (meaning line will cross into frame)\n",
    "        for y in range (0,abs(total_info[i][1])): #repeats based off of slope - steeper slope = more pixels to fill in.\n",
    "            x = (i*x_dim/dimensions)+l_bound+(y/abs(total_info[i][1]))#figures out x value for mathematical function based off of pixel\n",
    "            y_val=eval(equation) #finds y val\n",
    "            height=u_bound-y_val #converts to pixel val\n",
    "            height/=y_dim  #converts to pixel val\n",
    "            height*=dimensions #converts to pixel val\n",
    "            height=round(height) #converts to pixel val\n",
    "            if 0<height<dimensions: #checks if in range\n",
    "                graph[(height),i+round(y/abs(total_info[i][1])),1]=0 #changes color\n",
    "imshow(graph) #finally prints out our graph"
   ]
  }
 ],
 "metadata": {
  "kernelspec": {
   "display_name": "Python 3",
   "language": "python",
   "name": "python3"
  },
  "language_info": {
   "codemirror_mode": {
    "name": "ipython",
    "version": 3
   },
   "file_extension": ".py",
   "mimetype": "text/x-python",
   "name": "python",
   "nbconvert_exporter": "python",
   "pygments_lexer": "ipython3",
   "version": "3.7.7"
  }
 },
 "nbformat": 4,
 "nbformat_minor": 4
}
